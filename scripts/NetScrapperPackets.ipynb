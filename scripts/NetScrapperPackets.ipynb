{
 "cells": [
  {
   "cell_type": "code",
   "execution_count": null,
   "id": "d1707313-ed06-4839-b5e7-b45c345b8119",
   "metadata": {},
   "outputs": [],
   "source": [
    "import numpy as np\n",
    "import pandas as pd\n",
    "import matplotlib.pyplot as plt\n",
    "\n",
    "import socket, struct\n",
    "\n",
    "import imblearn\n",
    "from imblearn.under_sampling import RandomUnderSampler\n",
    "from sklearn.preprocessing import LabelEncoder\n",
    "from collections import Counter\n",
    "from imblearn.over_sampling import SMOTE\n",
    "from imblearn.pipeline import make_pipeline\n",
    "from imblearn.under_sampling import NearMiss"
   ]
  },
  {
   "cell_type": "code",
   "execution_count": null,
   "id": "6826971c-1ec5-4552-8748-7386e08490fc",
   "metadata": {},
   "outputs": [],
   "source": [
    "df = pd.read_csv('wireshark_dataset.csv')"
   ]
  },
  {
   "cell_type": "code",
   "execution_count": null,
   "id": "85ed252b-e480-45cd-b129-814b0ff39379",
   "metadata": {},
   "outputs": [],
   "source": [
    "df.head()"
   ]
  },
  {
   "cell_type": "code",
   "execution_count": null,
   "id": "96d549e0-5d59-4a79-a535-31437435f1bc",
   "metadata": {},
   "outputs": [],
   "source": [
    "def ip2int(ip):\n",
    "    packedIP = socket.inet_aton(ip)\n",
    "    return struct.unpack(\"!L\", packedIP)[0]"
   ]
  },
  {
   "cell_type": "code",
   "execution_count": null,
   "id": "2afcecf2-fe79-4706-81df-26c349fc2a29",
   "metadata": {},
   "outputs": [],
   "source": [
    "df['Source.IP'] = df['Source.IP'].apply(ip2int)\n",
    "df['Destination.IP'] = df['Destination.IP'].apply(ip2int)"
   ]
  },
  {
   "cell_type": "code",
   "execution_count": null,
   "id": "096bb4d7-1c57-4bad-b4f7-82a60c74db5b",
   "metadata": {},
   "outputs": [],
   "source": [
    "df.isnull().values.any()"
   ]
  },
  {
   "cell_type": "code",
   "execution_count": null,
   "id": "6090f882-8ce1-412b-955e-dc99be77135c",
   "metadata": {},
   "outputs": [],
   "source": [
    "print(df.dtypes)"
   ]
  },
  {
   "cell_type": "code",
   "execution_count": null,
   "id": "058e6658-f8bf-40a7-a019-54c7fc245fb8",
   "metadata": {},
   "outputs": [],
   "source": [
    "print(df['ProtocolName'].value_counts().iloc[6:20])"
   ]
  },
  {
   "cell_type": "code",
   "execution_count": null,
   "id": "ec522fb2-2c78-459f-a26a-6b58d8183e0d",
   "metadata": {},
   "outputs": [],
   "source": [
    "feats_toDelete = df['ProtocolName'].value_counts()[-25:].index\n",
    "feats_toDelete"
   ]
  },
  {
   "cell_type": "code",
   "execution_count": null,
   "id": "d12910c4-7d82-4b33-91a0-eca543fded1f",
   "metadata": {},
   "outputs": [],
   "source": [
    "target_count = df['ProtocolName'].value_counts()\n",
    "plt.figure(figsize=(16,10))\n",
    "target_count.plot(kind='bar', title='Occurance');"
   ]
  },
  {
   "cell_type": "code",
   "execution_count": null,
   "id": "ff6686e3-52dd-4895-ad0a-13979722c9f9",
   "metadata": {},
   "outputs": [],
   "source": [
    "df = df[~df.ProtocolName.isin(feats_toDelete)]"
   ]
  },
  {
   "cell_type": "code",
   "execution_count": null,
   "id": "4a3c6bdc-4de1-4dda-bf98-e92e8e3f0c0d",
   "metadata": {},
   "outputs": [],
   "source": [
    "target_count2 = df['ProtocolName'].value_counts()\n",
    "plt.figure(figsize=(16,10))\n",
    "target_count2.plot(kind='bar', title='Occurance');"
   ]
  },
  {
   "cell_type": "code",
   "execution_count": null,
   "id": "596789a0-d112-4c90-8e5b-e36db76a34bc",
   "metadata": {},
   "outputs": [],
   "source": [
    "feats = [x for x in df.columns if x != 'ProtocolName']\n",
    "len(feats)"
   ]
  },
  {
   "cell_type": "code",
   "execution_count": null,
   "id": "7ee4750f-5758-476a-bd71-15ad59bb9dcb",
   "metadata": {},
   "outputs": [],
   "source": [
    "df[feats].head()"
   ]
  },
  {
   "cell_type": "code",
   "execution_count": null,
   "id": "d60f65f2-54e5-4c4b-bd9e-7f902d1e076c",
   "metadata": {},
   "outputs": [],
   "source": [
    "feats_importance = ['Destination.IP', 'Destination.Port', 'Source.IP', 'Init_Win_bytes_forward',\n",
    " 'min_seg_size_forward', 'Fwd.Packet.Length.Max', 'Init_Win_bytes_backward', 'Flow.IAT.Max',\n",
    " 'Source.Port', 'Flow.Duration', 'Fwd.Packet.Length.Std', 'Bwd.IAT.Total',\n",
    " 'Avg.Fwd.Segment.Size', 'Fwd.Packets.s', 'Fwd.IAT.Total', 'Fwd.IAT.Max',\n",
    " 'Fwd.Packet.Length.Mean', 'Subflow.Fwd.Bytes', 'Flow.Bytes.s', 'Min.Packet.Length',\n",
    " 'Total.Length.of.Fwd.Packets', 'Bwd.IAT.Max', 'Packet.Length.Variance', 'Bwd.Packets.s',\n",
    " 'Flow.IAT.Mean', 'Fwd.Header.Length', 'act_data_pkt_fwd', 'Max.Packet.Length',\n",
    " 'Flow.Packets.s', 'Flow.IAT.Std', 'Packet.Length.Std', 'Idle.Max',\n",
    " 'Fwd.Header.Length.1', 'Bwd.Packet.Length.Mean', 'Bwd.IAT.Std', 'Fwd.Packet.Length.Min',\n",
    " 'Bwd.Packet.Length.Std', 'Avg.Bwd.Segment.Size', 'Average.Packet.Size', 'Total.Length.of.Bwd.Packets',\n",
    " 'Packet.Length.Mean', 'Fwd.IAT.Mean', 'Fwd.IAT.Std', 'Flow.IAT.Min',\n",
    " 'Bwd.IAT.Mean', 'Bwd.Packet.Length.Max', 'Subflow.Fwd.Packets', 'Total.Fwd.Packets',\n",
    " 'Total.Backward.Packets', 'Bwd.Header.Length', 'Subflow.Bwd.Bytes', 'Subflow.Bwd.Packets', \n",
    " 'Idle.Mean', 'Fwd.IAT.Min', 'Down.Up.Ratio', 'Idle.Min']"
   ]
  },
  {
   "cell_type": "code",
   "execution_count": null,
   "id": "1959e817-98a0-4da0-87a3-b171262cd929",
   "metadata": {},
   "outputs": [],
   "source": [
    "len(feats_importance)"
   ]
  },
  {
   "cell_type": "code",
   "execution_count": null,
   "id": "026ef53e-8ba1-4e35-b13a-bbb25218fb6c",
   "metadata": {},
   "outputs": [],
   "source": [
    "feats2 = df.columns[7:]\n",
    "feats2 = [x for x in feats2 if x != 'ProtocolName' and x != 'Label']\n",
    "len(feats2)"
   ]
  },
  {
   "cell_type": "code",
   "execution_count": null,
   "id": "36fd344b-771a-4eec-8cf4-ce3a0e6ee0e5",
   "metadata": {},
   "outputs": [],
   "source": [
    "df[feats2[-2]].unique()"
   ]
  },
  {
   "cell_type": "code",
   "execution_count": null,
   "id": "0c414731-e6a1-44cb-ae7d-eee0a77d7474",
   "metadata": {},
   "outputs": [],
   "source": [
    "X = df[feats2].astype(float)\n",
    "Y = df['ProtocolName']"
   ]
  },
  {
   "cell_type": "code",
   "execution_count": null,
   "id": "2673bf58-d165-462f-af66-edf91dbe8eb3",
   "metadata": {},
   "outputs": [],
   "source": [
    "encoder = LabelEncoder()\n",
    "encoder.fit(Y)\n",
    "encoded_Y = encoder.transform(Y)"
   ]
  },
  {
   "cell_type": "code",
   "execution_count": null,
   "id": "1252ccd7-a441-4a1b-a839-9d00d6737c7e",
   "metadata": {},
   "outputs": [],
   "source": [
    "print(sorted(Counter(Y).items()))\n",
    "\n",
    "print(sorted(Counter(encoded_Y).items()))"
   ]
  },
  {
   "cell_type": "code",
   "execution_count": null,
   "id": "296447cf-92bf-4fc0-860c-cd748b55df15",
   "metadata": {},
   "outputs": [],
   "source": [
    "dict_nearMiss = {\n",
    "\"GOOGLE\":            10000,\n",
    "\"HTTP\":              10000,\n",
    "\"HTTP_PROXY\":        10000,\n",
    "\"SSL\":               10000,\n",
    "\"HTTP_CONNECT\":      10000,\n",
    "\"YOUTUBE\":           10000,\n",
    "\"AMAZON\":             10000,\n",
    "\"MICROSOFT\":          10000,\n",
    "\"GMAIL\":              10000,\n",
    "\"WINDOWS_UPDATE\":     10000,\n",
    "\"SKYPE\":              10000,\n",
    "\"FACEBOOK\":           10000,\n",
    "\"DROPBOX\":            10000,\n",
    "\"YAHOO\":              10000,\n",
    "\"TWITTER\":            10000,\n",
    "\"CLOUDFLARE\":         10000,\n",
    "\"MSN\":                10000,\n",
    "}"
   ]
  },
  {
   "cell_type": "code",
   "execution_count": null,
   "id": "a2d4b84e-6761-4f10-9139-60f3851d8ce7",
   "metadata": {},
   "outputs": [],
   "source": [
    "dict_smote = { \"CONTENT_FLASH\":       10000,\n",
    "\"APPLE\":               10000,\n",
    "\"OFFICE_365\":        10000,\n",
    "\"WHATSAPP\":            10000,\n",
    "\"INSTAGRAM\":          10000,\n",
    "\"WIKIPEDIA\":           10000,\n",
    "\"MS_ONE_DRIVE\":        10000,\n",
    "\"DNS\":                 10000,\n",
    "\"IP_ICMP\":             10000,\n",
    "\"NETFLIX\":             10000,\n",
    "\"APPLE_ITUNES\":        10000,\n",
    "\"SPOTIFY\":             10000,\n",
    "\"APPLE_ICLOUD\":        10000,\n",
    "\"EBAY\":               10000,\n",
    "\"SSL_NO_CERT\":          10000,\n",
    "\"GOOGLE_MAPS\":          10000,\n",
    "\"EASYTAXI\":             10000,\n",
    "\"TEAMVIEWER\":           10000,\n",
    "\"HTTP_DOWNLOAD\":        10000,\n",
    "\"MQTT\":                 10000,\n",
    "\"TOR\":                  10000,\n",
    "\"FTP_DATA\":             10000,\n",
    "\"UBUNTUONE\":            10000,\n",
    "\"NTP\":                  10000,\n",
    "\"SSH\": 10000}\n",
    "print(dict_smote)"
   ]
  },
  {
   "cell_type": "code",
   "execution_count": null,
   "id": "b2fece67-e1a5-4bd3-b958-bdd83ebf3f4c",
   "metadata": {},
   "outputs": [],
   "source": [
    "pipe = make_pipeline(\n",
    "    SMOTE(sampling_strategy=dict_smote),\n",
    "    NearMiss(sampling_strategy=dict_nearMiss)\n",
    ")"
   ]
  },
  {
   "cell_type": "code",
   "execution_count": null,
   "id": "3f63ff65-e4c5-4e9b-ba57-9c1e166523fd",
   "metadata": {},
   "outputs": [],
   "source": [
    "X_resampled, y_resampled = pipe.fit_resample(X, Y)"
   ]
  },
  {
   "cell_type": "code",
   "execution_count": null,
   "id": "91e408d6-833d-47e8-9604-6e4798b049b5",
   "metadata": {},
   "outputs": [],
   "source": [
    "print(\"Shape pierwotnego pliku \" + str(df.shape))\n",
    "print(\"Shape X \" + str(X.shape))\n",
    "print(\"Shape X_resampled\" + str(X_resampled.shape))\n",
    "print(\"Shape Y \" + str(Y.shape))\n",
    "print(\"Shape y_resampled\" + str(y_resampled.shape))"
   ]
  },
  {
   "cell_type": "code",
   "execution_count": null,
   "id": "f824cce0-595b-4a57-b83e-b11278a4b0a3",
   "metadata": {},
   "outputs": [],
   "source": [
    "new_dataframe = pd.DataFrame(data = X_resampled, columns = feats2) "
   ]
  },
  {
   "cell_type": "code",
   "execution_count": null,
   "id": "ac1c9ee2-effe-4d5d-88d6-e4ce0e3e7af5",
   "metadata": {},
   "outputs": [],
   "source": [
    "new_dataframe['ProtocolName'] = y_resampled"
   ]
  },
  {
   "cell_type": "code",
   "execution_count": null,
   "id": "2800d9d4-a4a6-466c-a425-df23da4611d6",
   "metadata": {},
   "outputs": [],
   "source": [
    "new_dataframe.describe()"
   ]
  },
  {
   "cell_type": "code",
   "execution_count": null,
   "id": "87bbe24b-a559-40d0-8623-410e5a7429a3",
   "metadata": {},
   "outputs": [],
   "source": [
    "new_dataframe['ProtocolName'].head()"
   ]
  },
  {
   "cell_type": "code",
   "execution_count": null,
   "id": "04622ba6-e455-40b9-b558-fe6d9341b3fe",
   "metadata": {},
   "outputs": [],
   "source": [
    "new_dataframe.to_csv('cleaned_packed_dataset.csv', index=False)"
   ]
  }
 ],
 "metadata": {
  "kernelspec": {
   "display_name": "Python 3 (ipykernel)",
   "language": "python",
   "name": "python3"
  },
  "language_info": {
   "codemirror_mode": {
    "name": "ipython",
    "version": 3
   },
   "file_extension": ".py",
   "mimetype": "text/x-python",
   "name": "python",
   "nbconvert_exporter": "python",
   "pygments_lexer": "ipython3",
   "version": "3.11.4"
  }
 },
 "nbformat": 4,
 "nbformat_minor": 5
}

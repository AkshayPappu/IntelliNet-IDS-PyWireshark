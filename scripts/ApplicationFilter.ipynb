{
 "cells": [
  {
   "cell_type": "code",
   "execution_count": null,
   "id": "750631fc-7ccb-4c5e-8d36-4318657a852c",
   "metadata": {},
   "outputs": [],
   "source": [
    "import pandas as pd"
   ]
  },
  {
   "cell_type": "code",
   "execution_count": null,
   "id": "83f38a83-59a8-4732-b5d0-cc1beb440a68",
   "metadata": {},
   "outputs": [],
   "source": [
    "df = pd.read_csv('cleaned_packed_dataset.csv')"
   ]
  },
  {
   "cell_type": "code",
   "execution_count": null,
   "id": "61d6c63b-3d5a-4a64-a09f-57146dc8b8be",
   "metadata": {},
   "outputs": [],
   "source": [
    "df.head()"
   ]
  },
  {
   "cell_type": "code",
   "execution_count": null,
   "id": "1a593c34-03cf-42f7-ae28-b9882bd10105",
   "metadata": {},
   "outputs": [],
   "source": [
    "grouped_data = {protocol_name: protocol_df for protocol_name, protocol_df in df.groupby('ProtocolName')}"
   ]
  },
  {
   "cell_type": "code",
   "execution_count": null,
   "id": "ad19e2f6-0d89-4107-827b-30b839a488d4",
   "metadata": {},
   "outputs": [],
   "source": [
    "import os\n",
    "\n",
    "for protocol_name, protocol_df in grouped_data.items():\n",
    "    file_name = os.path.join(r\"../py_input_files\", f'{protocol_name}_packets.csv')\n",
    "    protocol_df.to_csv(file_name, index=False)"
   ]
  }
 ],
 "metadata": {
  "kernelspec": {
   "display_name": "Python 3 (ipykernel)",
   "language": "python",
   "name": "python3"
  },
  "language_info": {
   "codemirror_mode": {
    "name": "ipython",
    "version": 3
   },
   "file_extension": ".py",
   "mimetype": "text/x-python",
   "name": "python",
   "nbconvert_exporter": "python",
   "pygments_lexer": "ipython3",
   "version": "3.11.5"
  }
 },
 "nbformat": 4,
 "nbformat_minor": 5
}

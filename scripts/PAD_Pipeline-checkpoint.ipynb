{
 "cells": [
  {
   "cell_type": "code",
   "execution_count": null,
   "id": "55f2532f-e8ee-4a6e-a11e-d31a89ecc336",
   "metadata": {},
   "outputs": [],
   "source": [
    "import pandas as pd\n",
    "import matplotlib.pyplot as plt\n",
    "import numpy as np"
   ]
  },
  {
   "cell_type": "code",
   "execution_count": null,
   "id": "21f87e41-4120-421b-8d14-f07bc906d845",
   "metadata": {},
   "outputs": [],
   "source": [
    "df = pd.read_csv('../py_input_files/AMAZON_packets.csv') #Replace with whatever dataset you would like\n",
    "df.drop(['ProtocolName'], axis=1, inplace=True)"
   ]
  },
  {
   "cell_type": "code",
   "execution_count": null,
   "id": "6f23e64b-ee81-4cef-a43e-92d4a0938053",
   "metadata": {},
   "outputs": [],
   "source": [
    "#MAKE PREPROCESSING PIPELINE\n",
    "from sklearn.pipeline import Pipeline\n",
    "from sklearn.preprocessing import StandardScaler\n",
    "from sklearn.decomposition import PCA\n",
    "from sklearn.preprocessing import FunctionTransformer\n",
    "\n",
    "def Numpy_to_df(x):\n",
    "    df = pd.DataFrame(x)\n",
    "    return df\n",
    "\n",
    "preprocessing_pipeline = Pipeline([\n",
    "    ('scaler', StandardScaler()),\n",
    "    ('pca', PCA(n_components=7)),\n",
    "    ('to_dataframe', FunctionTransformer(Numpy_to_df)),\n",
    "])"
   ]
  },
  {
   "cell_type": "code",
   "execution_count": null,
   "id": "c9492c32-8372-49e6-818c-72574b5ecd7e",
   "metadata": {},
   "outputs": [],
   "source": [
    "pca_df = pipeline.fit_transform(df)\n",
    "AD_df = pd.DataFrame(pca_df)\n",
    "\n",
    "import random\n",
    "threshold = random.uniform(0.01, 0.03)\n",
    "print(\"Random threshold:\", threshold)"
   ]
  },
  {
   "cell_type": "code",
   "execution_count": null,
   "id": "33239e27-2941-43bc-9a96-cc46008e879d",
   "metadata": {},
   "outputs": [],
   "source": [
    "#MAKE ANOMALY DETECTION PIPELINE\n",
    "from sklearn.ensemble import IsolationForest\n",
    "from sklearn.neighbors import NearestNeighbors\n",
    "import tensorflow as tf\n",
    "from tensorflow.keras.models import Sequential\n",
    "from tensorflow.keras.layers import Dense\n",
    "\n",
    "autoencoder = Sequential([\n",
    "    Dense(4, activation='relu', input_shape=(7,)),\n",
    "    Dense(7, activation='sigmoid')\n",
    "])\n",
    "\n",
    "autoencoder.compile(optimizer='adam', loss='mse')\n",
    "\n",
    "\n",
    "ml_pipeline = Pipeline([\n",
    "    ('IF', IsolationForest(contamination=threshold, random_state=42)),\n",
    "    ('KNN', NearestNeighbors(n_neighbors=5)), \n",
    "    ('AE', autoencoder) \n",
    "])"
   ]
  },
  {
   "cell_type": "code",
   "execution_count": null,
   "id": "b21ba92f-8c96-46cf-bf6d-42dc9f4271e7",
   "metadata": {},
   "outputs": [],
   "source": [
    "#Obtain IF Anomalies\n",
    "IF_anomalies = ml_pipeline.named_steps['IF'].fit_predict(pca_df)\n",
    "AD_df['IF_anomalies'] = IF_anomalies\n",
    "AD_df['IF_anomalies'] = AD_df['IF_anomalies'].replace({1: 0, -1: 1})\n",
    "\n",
    "#Obtain KNN Anomalies\n",
    "distances, _ = ml_pipeline.named_steps['KNN'].fit(pca_df).kneighbors(pca_df)\n",
    "knn_threshold = 100-threshold*100\n",
    "knn_anomalies = pca_df[distances[:,-1] > np.percentile(distances[:,-1], knn_threshold)]\n",
    "AD_df['KNN_anomalies'] = 0\n",
    "AD_df.loc[knn_anomalies.index, 'KNN_anomalies'] = 1\n",
    "\n",
    "#Obtain AE Anomalies\n",
    "ml_pipeline.named_steps['AE'].fit(pca_df, pca_df, epochs=100, batch_size=32, shuffle=True)\n",
    "preds = autoencoder.predict(pca_df)\n",
    "mse = np.mean(np.power(pca_df - preds, 2), axis=1)\n",
    "AD_df['mse'] = mse\n",
    "AE_threshold = np.percentile(mse, 100-threshold*100 )\n",
    "AE_anomalies = AD_df[mse > AE_threshold]\n",
    "AD_df['AE_anomalies'] = 0\n",
    "AD_df.loc[AE_anomalies.index, 'AE_anomalies'] = 1\n",
    "AD_df.drop(['mse'], axis=1, inplace=True)"
   ]
  },
  {
   "cell_type": "code",
   "execution_count": null,
   "id": "3734bfdf-0e47-4288-b1d4-e5332eff1844",
   "metadata": {},
   "outputs": [],
   "source": [
    "#OBTAIN FINAL ANOMALIES\n",
    "AD_df['Final_anomalies'] = 0\n",
    "AD_df.loc[(AD_df['IF_anomalies'] == 1) & (AD_df['KNN_anomalies'] == 1) & (AD_df['AE_anomalies'] == 1), 'Final_anomalies'] = 1"
   ]
  },
  {
   "cell_type": "code",
   "execution_count": null,
   "id": "7f63a27f-3422-4d38-8c17-65cc5c0f5191",
   "metadata": {},
   "outputs": [],
   "source": [
    "AD_df"
   ]
  },
  {
   "cell_type": "code",
   "execution_count": null,
   "id": "ba33a9bd-2d64-4a8b-991e-7946b550e122",
   "metadata": {},
   "outputs": [],
   "source": [
    "AD_df.Final_anomalies.value_counts()"
   ]
  }
 ],
 "metadata": {
  "kernelspec": {
   "display_name": "Python 3 (ipykernel)",
   "language": "python",
   "name": "python3"
  },
  "language_info": {
   "codemirror_mode": {
    "name": "ipython",
    "version": 3
   },
   "file_extension": ".py",
   "mimetype": "text/x-python",
   "name": "python",
   "nbconvert_exporter": "python",
   "pygments_lexer": "ipython3",
   "version": "3.11.5"
  }
 },
 "nbformat": 4,
 "nbformat_minor": 5
}
